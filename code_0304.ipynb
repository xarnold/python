{
  "nbformat": 4,
  "nbformat_minor": 0,
  "metadata": {
    "colab": {
      "private_outputs": true,
      "provenance": [],
      "authorship_tag": "ABX9TyPnZt/kop2qx3gnVGxcScS4",
      "include_colab_link": true
    },
    "kernelspec": {
      "name": "python3",
      "display_name": "Python 3"
    },
    "language_info": {
      "name": "python"
    }
  },
  "cells": [
    {
      "cell_type": "markdown",
      "metadata": {
        "id": "view-in-github",
        "colab_type": "text"
      },
      "source": [
        "<a href=\"https://colab.research.google.com/github/xarnold/python/blob/main/code_0304.ipynb\" target=\"_parent\"><img src=\"https://colab.research.google.com/assets/colab-badge.svg\" alt=\"Open In Colab\"/></a>"
      ]
    },
    {
      "cell_type": "code",
      "execution_count": null,
      "metadata": {
        "id": "zWGREWy7NV1b"
      },
      "outputs": [],
      "source": [
        "list_a = [1,2,3]\n",
        "list_b = [4,5,6]\n",
        "\n",
        "print(\"list_a =\", list_a)\n",
        "print(\"list_b =\", list_b)\n",
        "\n",
        "print(\"list_a + list_b =\", list_a + list_b)\n",
        "print(\"list_a * 3 =\", list_a * 3)\n",
        "print()\n",
        "\n",
        "print(\"len(list_a) =\", len(list_a))\n"
      ]
    },
    {
      "cell_type": "code",
      "source": [
        "array = [273, 32, 103, 57, 52]\n",
        "\n",
        "for element in array:\n",
        "    print(element)"
      ],
      "metadata": {
        "id": "Ih_p3pJZQaPX"
      },
      "execution_count": null,
      "outputs": []
    },
    {
      "cell_type": "code",
      "source": [
        "dictionary = {\n",
        "    \"name\":\"7D 건조 망고\",\n",
        "    \"type\":\"당절임\",\n",
        "    \"ingredient\":[\"망고\", \"설탕\", \"메타중아황산나트륨\", \"치자황색소\"],\n",
        "    \"origin\":\"필리핀\"\n",
        "}\n",
        "\n",
        "print(\"name :\", dictionary[\"name\"])\n",
        "print(\"type :\", dictionary[\"type\"])\n",
        "print(\"ingredient :\", dictionary[\"ingredient\"])\n",
        "print(\"origin :\", dictionary[\"origin\"])\n",
        "\n",
        "dictionary[\"name\"] = \"8D 건조 망고\"\n",
        "print(\"name :\", dictionary[\"name\"])"
      ],
      "metadata": {
        "id": "6Er7UpnHRTBg"
      },
      "execution_count": null,
      "outputs": []
    },
    {
      "cell_type": "code",
      "source": [
        "dictionary = {\n",
        "    \"name\":\"7D 건조 망고\",\n",
        "    \"type\":\"당절임\",\n",
        "    \"ingredient\":[\"망고\", \"설탕\", \"메타중아황산나트륨\", \"치자황색소\"],\n",
        "    \"origin\":\"필리핀\"\n",
        "}\n",
        "\n",
        "for key in dictionary:\n",
        "    print(key, \":\", dictionary[key])"
      ],
      "metadata": {
        "id": "HeJjmQW0S-Js"
      },
      "execution_count": null,
      "outputs": []
    },
    {
      "cell_type": "code",
      "source": [
        "array = [273, 32, 103, 57, 52]\n",
        "\n",
        "for i in range(len(array)):\n",
        "    print(\"{}번째 반복 : {}\".format(i, array[i]))"
      ],
      "metadata": {
        "id": "2krV6vNiS_qh"
      },
      "execution_count": null,
      "outputs": []
    },
    {
      "cell_type": "code",
      "source": [
        "output = \"\"\n",
        "\n",
        "for i in range(1,10):\n",
        "    for j in range(1,10-i):\n",
        "        output += \" \"\n",
        "    for k in range(1,i * 2 -1):\n",
        "        output += \"*\"\n",
        "    output += \"\\n\"\n",
        "\n",
        "print(output)"
      ],
      "metadata": {
        "id": "-zFFHinbUxCD"
      },
      "execution_count": null,
      "outputs": []
    }
  ]
}